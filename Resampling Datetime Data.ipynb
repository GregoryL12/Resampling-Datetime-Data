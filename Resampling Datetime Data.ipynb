{
 "cells": [
  {
   "cell_type": "markdown",
   "id": "6267cf15",
   "metadata": {},
   "source": [
    "# (Core) Resampling Datetime Data"
   ]
  },
  {
   "cell_type": "markdown",
   "id": "05da00a6",
   "metadata": {},
   "source": [
    "Gregory Leal"
   ]
  },
  {
   "cell_type": "markdown",
   "id": "35494ba3",
   "metadata": {},
   "source": [
    "# Part 1) Load the data and make a datetime index."
   ]
  },
  {
   "cell_type": "code",
   "execution_count": 1,
   "id": "c7f04df5",
   "metadata": {},
   "outputs": [],
   "source": [
    "import pandas as pd\n",
    "from datetime import datetime\n",
    "from matplotlib import dates as mdates\n",
    "import matplotlib.pyplot as plt"
   ]
  },
  {
   "cell_type": "code",
   "execution_count": 2,
   "id": "c2b486ff",
   "metadata": {},
   "outputs": [
    {
     "data": {
      "text/html": [
       "<div>\n",
       "<style scoped>\n",
       "    .dataframe tbody tr th:only-of-type {\n",
       "        vertical-align: middle;\n",
       "    }\n",
       "\n",
       "    .dataframe tbody tr th {\n",
       "        vertical-align: top;\n",
       "    }\n",
       "\n",
       "    .dataframe thead th {\n",
       "        text-align: right;\n",
       "    }\n",
       "</style>\n",
       "<table border=\"1\" class=\"dataframe\">\n",
       "  <thead>\n",
       "    <tr style=\"text-align: right;\">\n",
       "      <th></th>\n",
       "      <th>date</th>\n",
       "      <th>cloud_cover</th>\n",
       "      <th>sunshine</th>\n",
       "      <th>global_radiation</th>\n",
       "      <th>max_temp</th>\n",
       "      <th>mean_temp</th>\n",
       "      <th>min_temp</th>\n",
       "      <th>precipitation</th>\n",
       "      <th>pressure</th>\n",
       "      <th>snow_depth</th>\n",
       "    </tr>\n",
       "  </thead>\n",
       "  <tbody>\n",
       "    <tr>\n",
       "      <th>0</th>\n",
       "      <td>19790101</td>\n",
       "      <td>2.0</td>\n",
       "      <td>7.0</td>\n",
       "      <td>52.0</td>\n",
       "      <td>2.3</td>\n",
       "      <td>-4.1</td>\n",
       "      <td>-7.5</td>\n",
       "      <td>0.4</td>\n",
       "      <td>101900.0</td>\n",
       "      <td>9.0</td>\n",
       "    </tr>\n",
       "    <tr>\n",
       "      <th>1</th>\n",
       "      <td>19790102</td>\n",
       "      <td>6.0</td>\n",
       "      <td>1.7</td>\n",
       "      <td>27.0</td>\n",
       "      <td>1.6</td>\n",
       "      <td>-2.6</td>\n",
       "      <td>-7.5</td>\n",
       "      <td>0.0</td>\n",
       "      <td>102530.0</td>\n",
       "      <td>8.0</td>\n",
       "    </tr>\n",
       "    <tr>\n",
       "      <th>2</th>\n",
       "      <td>19790103</td>\n",
       "      <td>5.0</td>\n",
       "      <td>0.0</td>\n",
       "      <td>13.0</td>\n",
       "      <td>1.3</td>\n",
       "      <td>-2.8</td>\n",
       "      <td>-7.2</td>\n",
       "      <td>0.0</td>\n",
       "      <td>102050.0</td>\n",
       "      <td>4.0</td>\n",
       "    </tr>\n",
       "    <tr>\n",
       "      <th>3</th>\n",
       "      <td>19790104</td>\n",
       "      <td>8.0</td>\n",
       "      <td>0.0</td>\n",
       "      <td>13.0</td>\n",
       "      <td>-0.3</td>\n",
       "      <td>-2.6</td>\n",
       "      <td>-6.5</td>\n",
       "      <td>0.0</td>\n",
       "      <td>100840.0</td>\n",
       "      <td>2.0</td>\n",
       "    </tr>\n",
       "    <tr>\n",
       "      <th>4</th>\n",
       "      <td>19790105</td>\n",
       "      <td>6.0</td>\n",
       "      <td>2.0</td>\n",
       "      <td>29.0</td>\n",
       "      <td>5.6</td>\n",
       "      <td>-0.8</td>\n",
       "      <td>-1.4</td>\n",
       "      <td>0.0</td>\n",
       "      <td>102250.0</td>\n",
       "      <td>1.0</td>\n",
       "    </tr>\n",
       "  </tbody>\n",
       "</table>\n",
       "</div>"
      ],
      "text/plain": [
       "       date  cloud_cover  sunshine  global_radiation  max_temp  mean_temp  \\\n",
       "0  19790101          2.0       7.0              52.0       2.3       -4.1   \n",
       "1  19790102          6.0       1.7              27.0       1.6       -2.6   \n",
       "2  19790103          5.0       0.0              13.0       1.3       -2.8   \n",
       "3  19790104          8.0       0.0              13.0      -0.3       -2.6   \n",
       "4  19790105          6.0       2.0              29.0       5.6       -0.8   \n",
       "\n",
       "   min_temp  precipitation  pressure  snow_depth  \n",
       "0      -7.5            0.4  101900.0         9.0  \n",
       "1      -7.5            0.0  102530.0         8.0  \n",
       "2      -7.2            0.0  102050.0         4.0  \n",
       "3      -6.5            0.0  100840.0         2.0  \n",
       "4      -1.4            0.0  102250.0         1.0  "
      ]
     },
     "execution_count": 2,
     "metadata": {},
     "output_type": "execute_result"
    }
   ],
   "source": [
    "df = pd.read_csv(r\"C:\\Users\\gleal\\Desktop\\Jnb Repo\\Resampling-Datetime-Data\\Data\\london_weather_MODIFIED.csv\")\n",
    "df.head()"
   ]
  },
  {
   "cell_type": "code",
   "execution_count": 3,
   "id": "3dd311cc",
   "metadata": {},
   "outputs": [
    {
     "name": "stdout",
     "output_type": "stream",
     "text": [
      "<class 'pandas.core.frame.DataFrame'>\n",
      "RangeIndex: 15341 entries, 0 to 15340\n",
      "Data columns (total 10 columns):\n",
      " #   Column            Non-Null Count  Dtype  \n",
      "---  ------            --------------  -----  \n",
      " 0   date              15341 non-null  int64  \n",
      " 1   cloud_cover       14938 non-null  float64\n",
      " 2   sunshine          14957 non-null  float64\n",
      " 3   global_radiation  14939 non-null  float64\n",
      " 4   max_temp          14951 non-null  float64\n",
      " 5   mean_temp         14922 non-null  float64\n",
      " 6   min_temp          14955 non-null  float64\n",
      " 7   precipitation     14951 non-null  float64\n",
      " 8   pressure          14953 non-null  float64\n",
      " 9   snow_depth        13589 non-null  float64\n",
      "dtypes: float64(9), int64(1)\n",
      "memory usage: 1.2 MB\n"
     ]
    }
   ],
   "source": [
    "df.info()"
   ]
  },
  {
   "cell_type": "code",
   "execution_count": 4,
   "id": "d011930f",
   "metadata": {},
   "outputs": [
    {
     "data": {
      "text/plain": [
       "0       1970-01-01 00:00:00.019790101\n",
       "1       1970-01-01 00:00:00.019790102\n",
       "2       1970-01-01 00:00:00.019790103\n",
       "3       1970-01-01 00:00:00.019790104\n",
       "4       1970-01-01 00:00:00.019790105\n",
       "                     ...             \n",
       "15336   1970-01-01 00:00:00.020201227\n",
       "15337   1970-01-01 00:00:00.020201228\n",
       "15338   1970-01-01 00:00:00.020201229\n",
       "15339   1970-01-01 00:00:00.020201230\n",
       "15340   1970-01-01 00:00:00.020201231\n",
       "Name: date, Length: 15341, dtype: datetime64[ns]"
      ]
     },
     "execution_count": 4,
     "metadata": {},
     "output_type": "execute_result"
    }
   ],
   "source": [
    "pd.to_datetime(df['date'])"
   ]
  },
  {
   "cell_type": "code",
   "execution_count": 5,
   "id": "4e462ef5",
   "metadata": {},
   "outputs": [
    {
     "data": {
      "text/plain": [
       "0       1979-01-01\n",
       "1       1979-01-02\n",
       "2       1979-01-03\n",
       "3       1979-01-04\n",
       "4       1979-01-05\n",
       "           ...    \n",
       "15336   2020-12-27\n",
       "15337   2020-12-28\n",
       "15338   2020-12-29\n",
       "15339   2020-12-30\n",
       "15340   2020-12-31\n",
       "Name: date, Length: 15341, dtype: datetime64[ns]"
      ]
     },
     "execution_count": 5,
     "metadata": {},
     "output_type": "execute_result"
    }
   ],
   "source": [
    "df['date'] = pd.to_datetime(df['date'], format='%Y%m%d')\n",
    "df['date']"
   ]
  },
  {
   "cell_type": "code",
   "execution_count": 6,
   "id": "ed1bd51f",
   "metadata": {},
   "outputs": [
    {
     "name": "stdout",
     "output_type": "stream",
     "text": [
      "<class 'pandas.core.frame.DataFrame'>\n",
      "RangeIndex: 15341 entries, 0 to 15340\n",
      "Data columns (total 10 columns):\n",
      " #   Column            Non-Null Count  Dtype         \n",
      "---  ------            --------------  -----         \n",
      " 0   date              15341 non-null  datetime64[ns]\n",
      " 1   cloud_cover       14938 non-null  float64       \n",
      " 2   sunshine          14957 non-null  float64       \n",
      " 3   global_radiation  14939 non-null  float64       \n",
      " 4   max_temp          14951 non-null  float64       \n",
      " 5   mean_temp         14922 non-null  float64       \n",
      " 6   min_temp          14955 non-null  float64       \n",
      " 7   precipitation     14951 non-null  float64       \n",
      " 8   pressure          14953 non-null  float64       \n",
      " 9   snow_depth        13589 non-null  float64       \n",
      "dtypes: datetime64[ns](1), float64(9)\n",
      "memory usage: 1.2 MB\n"
     ]
    }
   ],
   "source": [
    "df.info()"
   ]
  },
  {
   "cell_type": "code",
   "execution_count": 7,
   "id": "a1defb54",
   "metadata": {},
   "outputs": [
    {
     "data": {
      "text/html": [
       "<div>\n",
       "<style scoped>\n",
       "    .dataframe tbody tr th:only-of-type {\n",
       "        vertical-align: middle;\n",
       "    }\n",
       "\n",
       "    .dataframe tbody tr th {\n",
       "        vertical-align: top;\n",
       "    }\n",
       "\n",
       "    .dataframe thead th {\n",
       "        text-align: right;\n",
       "    }\n",
       "</style>\n",
       "<table border=\"1\" class=\"dataframe\">\n",
       "  <thead>\n",
       "    <tr style=\"text-align: right;\">\n",
       "      <th></th>\n",
       "      <th>cloud_cover</th>\n",
       "      <th>sunshine</th>\n",
       "      <th>global_radiation</th>\n",
       "      <th>max_temp</th>\n",
       "      <th>mean_temp</th>\n",
       "      <th>min_temp</th>\n",
       "      <th>precipitation</th>\n",
       "      <th>pressure</th>\n",
       "      <th>snow_depth</th>\n",
       "    </tr>\n",
       "    <tr>\n",
       "      <th>date</th>\n",
       "      <th></th>\n",
       "      <th></th>\n",
       "      <th></th>\n",
       "      <th></th>\n",
       "      <th></th>\n",
       "      <th></th>\n",
       "      <th></th>\n",
       "      <th></th>\n",
       "      <th></th>\n",
       "    </tr>\n",
       "  </thead>\n",
       "  <tbody>\n",
       "    <tr>\n",
       "      <th>1979-01-01</th>\n",
       "      <td>2.0</td>\n",
       "      <td>7.0</td>\n",
       "      <td>52.0</td>\n",
       "      <td>2.3</td>\n",
       "      <td>-4.1</td>\n",
       "      <td>-7.5</td>\n",
       "      <td>0.4</td>\n",
       "      <td>101900.0</td>\n",
       "      <td>9.0</td>\n",
       "    </tr>\n",
       "    <tr>\n",
       "      <th>1979-01-02</th>\n",
       "      <td>6.0</td>\n",
       "      <td>1.7</td>\n",
       "      <td>27.0</td>\n",
       "      <td>1.6</td>\n",
       "      <td>-2.6</td>\n",
       "      <td>-7.5</td>\n",
       "      <td>0.0</td>\n",
       "      <td>102530.0</td>\n",
       "      <td>8.0</td>\n",
       "    </tr>\n",
       "    <tr>\n",
       "      <th>1979-01-03</th>\n",
       "      <td>5.0</td>\n",
       "      <td>0.0</td>\n",
       "      <td>13.0</td>\n",
       "      <td>1.3</td>\n",
       "      <td>-2.8</td>\n",
       "      <td>-7.2</td>\n",
       "      <td>0.0</td>\n",
       "      <td>102050.0</td>\n",
       "      <td>4.0</td>\n",
       "    </tr>\n",
       "    <tr>\n",
       "      <th>1979-01-04</th>\n",
       "      <td>8.0</td>\n",
       "      <td>0.0</td>\n",
       "      <td>13.0</td>\n",
       "      <td>-0.3</td>\n",
       "      <td>-2.6</td>\n",
       "      <td>-6.5</td>\n",
       "      <td>0.0</td>\n",
       "      <td>100840.0</td>\n",
       "      <td>2.0</td>\n",
       "    </tr>\n",
       "    <tr>\n",
       "      <th>1979-01-05</th>\n",
       "      <td>6.0</td>\n",
       "      <td>2.0</td>\n",
       "      <td>29.0</td>\n",
       "      <td>5.6</td>\n",
       "      <td>-0.8</td>\n",
       "      <td>-1.4</td>\n",
       "      <td>0.0</td>\n",
       "      <td>102250.0</td>\n",
       "      <td>1.0</td>\n",
       "    </tr>\n",
       "    <tr>\n",
       "      <th>...</th>\n",
       "      <td>...</td>\n",
       "      <td>...</td>\n",
       "      <td>...</td>\n",
       "      <td>...</td>\n",
       "      <td>...</td>\n",
       "      <td>...</td>\n",
       "      <td>...</td>\n",
       "      <td>...</td>\n",
       "      <td>...</td>\n",
       "    </tr>\n",
       "    <tr>\n",
       "      <th>2020-12-27</th>\n",
       "      <td>1.0</td>\n",
       "      <td>0.9</td>\n",
       "      <td>32.0</td>\n",
       "      <td>7.5</td>\n",
       "      <td>7.5</td>\n",
       "      <td>7.6</td>\n",
       "      <td>2.0</td>\n",
       "      <td>98000.0</td>\n",
       "      <td>NaN</td>\n",
       "    </tr>\n",
       "    <tr>\n",
       "      <th>2020-12-28</th>\n",
       "      <td>7.0</td>\n",
       "      <td>3.7</td>\n",
       "      <td>38.0</td>\n",
       "      <td>3.6</td>\n",
       "      <td>1.1</td>\n",
       "      <td>-1.3</td>\n",
       "      <td>0.2</td>\n",
       "      <td>97370.0</td>\n",
       "      <td>NaN</td>\n",
       "    </tr>\n",
       "    <tr>\n",
       "      <th>2020-12-29</th>\n",
       "      <td>7.0</td>\n",
       "      <td>0.0</td>\n",
       "      <td>21.0</td>\n",
       "      <td>4.1</td>\n",
       "      <td>2.6</td>\n",
       "      <td>1.1</td>\n",
       "      <td>0.0</td>\n",
       "      <td>98830.0</td>\n",
       "      <td>NaN</td>\n",
       "    </tr>\n",
       "    <tr>\n",
       "      <th>2020-12-30</th>\n",
       "      <td>6.0</td>\n",
       "      <td>0.4</td>\n",
       "      <td>22.0</td>\n",
       "      <td>5.6</td>\n",
       "      <td>2.7</td>\n",
       "      <td>-0.1</td>\n",
       "      <td>0.0</td>\n",
       "      <td>100200.0</td>\n",
       "      <td>NaN</td>\n",
       "    </tr>\n",
       "    <tr>\n",
       "      <th>2020-12-31</th>\n",
       "      <td>7.0</td>\n",
       "      <td>1.3</td>\n",
       "      <td>34.0</td>\n",
       "      <td>1.5</td>\n",
       "      <td>-0.8</td>\n",
       "      <td>-3.1</td>\n",
       "      <td>0.0</td>\n",
       "      <td>100500.0</td>\n",
       "      <td>NaN</td>\n",
       "    </tr>\n",
       "  </tbody>\n",
       "</table>\n",
       "<p>15341 rows × 9 columns</p>\n",
       "</div>"
      ],
      "text/plain": [
       "            cloud_cover  sunshine  global_radiation  max_temp  mean_temp  \\\n",
       "date                                                                       \n",
       "1979-01-01          2.0       7.0              52.0       2.3       -4.1   \n",
       "1979-01-02          6.0       1.7              27.0       1.6       -2.6   \n",
       "1979-01-03          5.0       0.0              13.0       1.3       -2.8   \n",
       "1979-01-04          8.0       0.0              13.0      -0.3       -2.6   \n",
       "1979-01-05          6.0       2.0              29.0       5.6       -0.8   \n",
       "...                 ...       ...               ...       ...        ...   \n",
       "2020-12-27          1.0       0.9              32.0       7.5        7.5   \n",
       "2020-12-28          7.0       3.7              38.0       3.6        1.1   \n",
       "2020-12-29          7.0       0.0              21.0       4.1        2.6   \n",
       "2020-12-30          6.0       0.4              22.0       5.6        2.7   \n",
       "2020-12-31          7.0       1.3              34.0       1.5       -0.8   \n",
       "\n",
       "            min_temp  precipitation  pressure  snow_depth  \n",
       "date                                                       \n",
       "1979-01-01      -7.5            0.4  101900.0         9.0  \n",
       "1979-01-02      -7.5            0.0  102530.0         8.0  \n",
       "1979-01-03      -7.2            0.0  102050.0         4.0  \n",
       "1979-01-04      -6.5            0.0  100840.0         2.0  \n",
       "1979-01-05      -1.4            0.0  102250.0         1.0  \n",
       "...              ...            ...       ...         ...  \n",
       "2020-12-27       7.6            2.0   98000.0         NaN  \n",
       "2020-12-28      -1.3            0.2   97370.0         NaN  \n",
       "2020-12-29       1.1            0.0   98830.0         NaN  \n",
       "2020-12-30      -0.1            0.0  100200.0         NaN  \n",
       "2020-12-31      -3.1            0.0  100500.0         NaN  \n",
       "\n",
       "[15341 rows x 9 columns]"
      ]
     },
     "execution_count": 7,
     "metadata": {},
     "output_type": "execute_result"
    }
   ],
   "source": [
    "df = df.set_index('date')\n",
    "df"
   ]
  },
  {
   "cell_type": "code",
   "execution_count": 8,
   "id": "4311b6f3",
   "metadata": {},
   "outputs": [
    {
     "data": {
      "text/html": [
       "<div>\n",
       "<style scoped>\n",
       "    .dataframe tbody tr th:only-of-type {\n",
       "        vertical-align: middle;\n",
       "    }\n",
       "\n",
       "    .dataframe tbody tr th {\n",
       "        vertical-align: top;\n",
       "    }\n",
       "\n",
       "    .dataframe thead th {\n",
       "        text-align: right;\n",
       "    }\n",
       "</style>\n",
       "<table border=\"1\" class=\"dataframe\">\n",
       "  <thead>\n",
       "    <tr style=\"text-align: right;\">\n",
       "      <th></th>\n",
       "      <th>precipitation</th>\n",
       "      <th>mean_temp</th>\n",
       "      <th>min_temp</th>\n",
       "      <th>max_temp</th>\n",
       "      <th>snow_depth</th>\n",
       "    </tr>\n",
       "    <tr>\n",
       "      <th>date</th>\n",
       "      <th></th>\n",
       "      <th></th>\n",
       "      <th></th>\n",
       "      <th></th>\n",
       "      <th></th>\n",
       "    </tr>\n",
       "  </thead>\n",
       "  <tbody>\n",
       "    <tr>\n",
       "      <th>2000-01-01</th>\n",
       "      <td>0.0</td>\n",
       "      <td>7.0</td>\n",
       "      <td>4.9</td>\n",
       "      <td>10.8</td>\n",
       "      <td>0.0</td>\n",
       "    </tr>\n",
       "    <tr>\n",
       "      <th>2000-01-02</th>\n",
       "      <td>0.2</td>\n",
       "      <td>7.9</td>\n",
       "      <td>5.0</td>\n",
       "      <td>11.5</td>\n",
       "      <td>0.0</td>\n",
       "    </tr>\n",
       "    <tr>\n",
       "      <th>2000-01-03</th>\n",
       "      <td>6.0</td>\n",
       "      <td>9.4</td>\n",
       "      <td>7.2</td>\n",
       "      <td>9.5</td>\n",
       "      <td>0.0</td>\n",
       "    </tr>\n",
       "    <tr>\n",
       "      <th>2000-01-04</th>\n",
       "      <td>0.2</td>\n",
       "      <td>7.0</td>\n",
       "      <td>4.4</td>\n",
       "      <td>11.0</td>\n",
       "      <td>0.0</td>\n",
       "    </tr>\n",
       "    <tr>\n",
       "      <th>2000-01-05</th>\n",
       "      <td>0.8</td>\n",
       "      <td>6.4</td>\n",
       "      <td>1.9</td>\n",
       "      <td>10.8</td>\n",
       "      <td>0.0</td>\n",
       "    </tr>\n",
       "    <tr>\n",
       "      <th>...</th>\n",
       "      <td>...</td>\n",
       "      <td>...</td>\n",
       "      <td>...</td>\n",
       "      <td>...</td>\n",
       "      <td>...</td>\n",
       "    </tr>\n",
       "    <tr>\n",
       "      <th>2020-12-27</th>\n",
       "      <td>2.0</td>\n",
       "      <td>7.5</td>\n",
       "      <td>7.6</td>\n",
       "      <td>7.5</td>\n",
       "      <td>NaN</td>\n",
       "    </tr>\n",
       "    <tr>\n",
       "      <th>2020-12-28</th>\n",
       "      <td>0.2</td>\n",
       "      <td>1.1</td>\n",
       "      <td>-1.3</td>\n",
       "      <td>3.6</td>\n",
       "      <td>NaN</td>\n",
       "    </tr>\n",
       "    <tr>\n",
       "      <th>2020-12-29</th>\n",
       "      <td>0.0</td>\n",
       "      <td>2.6</td>\n",
       "      <td>1.1</td>\n",
       "      <td>4.1</td>\n",
       "      <td>NaN</td>\n",
       "    </tr>\n",
       "    <tr>\n",
       "      <th>2020-12-30</th>\n",
       "      <td>0.0</td>\n",
       "      <td>2.7</td>\n",
       "      <td>-0.1</td>\n",
       "      <td>5.6</td>\n",
       "      <td>NaN</td>\n",
       "    </tr>\n",
       "    <tr>\n",
       "      <th>2020-12-31</th>\n",
       "      <td>0.0</td>\n",
       "      <td>-0.8</td>\n",
       "      <td>-3.1</td>\n",
       "      <td>1.5</td>\n",
       "      <td>NaN</td>\n",
       "    </tr>\n",
       "  </tbody>\n",
       "</table>\n",
       "<p>7671 rows × 5 columns</p>\n",
       "</div>"
      ],
      "text/plain": [
       "            precipitation  mean_temp  min_temp  max_temp  snow_depth\n",
       "date                                                                \n",
       "2000-01-01            0.0        7.0       4.9      10.8         0.0\n",
       "2000-01-02            0.2        7.9       5.0      11.5         0.0\n",
       "2000-01-03            6.0        9.4       7.2       9.5         0.0\n",
       "2000-01-04            0.2        7.0       4.4      11.0         0.0\n",
       "2000-01-05            0.8        6.4       1.9      10.8         0.0\n",
       "...                   ...        ...       ...       ...         ...\n",
       "2020-12-27            2.0        7.5       7.6       7.5         NaN\n",
       "2020-12-28            0.2        1.1      -1.3       3.6         NaN\n",
       "2020-12-29            0.0        2.6       1.1       4.1         NaN\n",
       "2020-12-30            0.0        2.7      -0.1       5.6         NaN\n",
       "2020-12-31            0.0       -0.8      -3.1       1.5         NaN\n",
       "\n",
       "[7671 rows x 5 columns]"
      ]
     },
     "execution_count": 8,
     "metadata": {},
     "output_type": "execute_result"
    }
   ],
   "source": [
    "df = df.loc['2000':, ['precipitation', 'mean_temp', 'min_temp', \n",
    "                      'max_temp', 'snow_depth']]\n",
    "df"
   ]
  },
  {
   "cell_type": "code",
   "execution_count": 9,
   "id": "c57a5eb5",
   "metadata": {},
   "outputs": [
    {
     "data": {
      "text/plain": [
       "precipitation     390\n",
       "mean_temp         419\n",
       "min_temp          386\n",
       "max_temp          390\n",
       "snow_depth       1752\n",
       "dtype: int64"
      ]
     },
     "execution_count": 9,
     "metadata": {},
     "output_type": "execute_result"
    }
   ],
   "source": [
    "df.isna().sum()"
   ]
  },
  {
   "cell_type": "code",
   "execution_count": 10,
   "id": "e1be2372",
   "metadata": {},
   "outputs": [],
   "source": [
    "for col in df:\n",
    "    df[col] = df[col].interpolate()"
   ]
  },
  {
   "cell_type": "code",
   "execution_count": 11,
   "id": "2a762448",
   "metadata": {},
   "outputs": [
    {
     "data": {
      "text/plain": [
       "precipitation    0\n",
       "mean_temp        0\n",
       "min_temp         0\n",
       "max_temp         0\n",
       "snow_depth       0\n",
       "dtype: int64"
      ]
     },
     "execution_count": 11,
     "metadata": {},
     "output_type": "execute_result"
    }
   ],
   "source": [
    "df.isna().sum()"
   ]
  },
  {
   "cell_type": "code",
   "execution_count": 12,
   "id": "6c91119a",
   "metadata": {},
   "outputs": [
    {
     "data": {
      "text/html": [
       "<div>\n",
       "<style scoped>\n",
       "    .dataframe tbody tr th:only-of-type {\n",
       "        vertical-align: middle;\n",
       "    }\n",
       "\n",
       "    .dataframe tbody tr th {\n",
       "        vertical-align: top;\n",
       "    }\n",
       "\n",
       "    .dataframe thead th {\n",
       "        text-align: right;\n",
       "    }\n",
       "</style>\n",
       "<table border=\"1\" class=\"dataframe\">\n",
       "  <thead>\n",
       "    <tr style=\"text-align: right;\">\n",
       "      <th></th>\n",
       "      <th>precipitation</th>\n",
       "      <th>mean_temp</th>\n",
       "      <th>min_temp</th>\n",
       "      <th>max_temp</th>\n",
       "      <th>snow_depth</th>\n",
       "    </tr>\n",
       "    <tr>\n",
       "      <th>date</th>\n",
       "      <th></th>\n",
       "      <th></th>\n",
       "      <th></th>\n",
       "      <th></th>\n",
       "      <th></th>\n",
       "    </tr>\n",
       "  </thead>\n",
       "  <tbody>\n",
       "    <tr>\n",
       "      <th>2000-01-01</th>\n",
       "      <td>0.0</td>\n",
       "      <td>7.0</td>\n",
       "      <td>4.9</td>\n",
       "      <td>10.8</td>\n",
       "      <td>0.0</td>\n",
       "    </tr>\n",
       "    <tr>\n",
       "      <th>2000-01-02</th>\n",
       "      <td>0.2</td>\n",
       "      <td>7.9</td>\n",
       "      <td>5.0</td>\n",
       "      <td>11.5</td>\n",
       "      <td>0.0</td>\n",
       "    </tr>\n",
       "    <tr>\n",
       "      <th>2000-01-03</th>\n",
       "      <td>6.0</td>\n",
       "      <td>9.4</td>\n",
       "      <td>7.2</td>\n",
       "      <td>9.5</td>\n",
       "      <td>0.0</td>\n",
       "    </tr>\n",
       "    <tr>\n",
       "      <th>2000-01-04</th>\n",
       "      <td>0.2</td>\n",
       "      <td>7.0</td>\n",
       "      <td>4.4</td>\n",
       "      <td>11.0</td>\n",
       "      <td>0.0</td>\n",
       "    </tr>\n",
       "    <tr>\n",
       "      <th>2000-01-05</th>\n",
       "      <td>0.8</td>\n",
       "      <td>6.4</td>\n",
       "      <td>1.9</td>\n",
       "      <td>10.8</td>\n",
       "      <td>0.0</td>\n",
       "    </tr>\n",
       "    <tr>\n",
       "      <th>...</th>\n",
       "      <td>...</td>\n",
       "      <td>...</td>\n",
       "      <td>...</td>\n",
       "      <td>...</td>\n",
       "      <td>...</td>\n",
       "    </tr>\n",
       "    <tr>\n",
       "      <th>2020-12-27</th>\n",
       "      <td>2.0</td>\n",
       "      <td>7.5</td>\n",
       "      <td>7.6</td>\n",
       "      <td>7.5</td>\n",
       "      <td>0.0</td>\n",
       "    </tr>\n",
       "    <tr>\n",
       "      <th>2020-12-28</th>\n",
       "      <td>0.2</td>\n",
       "      <td>1.1</td>\n",
       "      <td>-1.3</td>\n",
       "      <td>3.6</td>\n",
       "      <td>0.0</td>\n",
       "    </tr>\n",
       "    <tr>\n",
       "      <th>2020-12-29</th>\n",
       "      <td>0.0</td>\n",
       "      <td>2.6</td>\n",
       "      <td>1.1</td>\n",
       "      <td>4.1</td>\n",
       "      <td>0.0</td>\n",
       "    </tr>\n",
       "    <tr>\n",
       "      <th>2020-12-30</th>\n",
       "      <td>0.0</td>\n",
       "      <td>2.7</td>\n",
       "      <td>-0.1</td>\n",
       "      <td>5.6</td>\n",
       "      <td>0.0</td>\n",
       "    </tr>\n",
       "    <tr>\n",
       "      <th>2020-12-31</th>\n",
       "      <td>0.0</td>\n",
       "      <td>-0.8</td>\n",
       "      <td>-3.1</td>\n",
       "      <td>1.5</td>\n",
       "      <td>0.0</td>\n",
       "    </tr>\n",
       "  </tbody>\n",
       "</table>\n",
       "<p>7671 rows × 5 columns</p>\n",
       "</div>"
      ],
      "text/plain": [
       "            precipitation  mean_temp  min_temp  max_temp  snow_depth\n",
       "date                                                                \n",
       "2000-01-01            0.0        7.0       4.9      10.8         0.0\n",
       "2000-01-02            0.2        7.9       5.0      11.5         0.0\n",
       "2000-01-03            6.0        9.4       7.2       9.5         0.0\n",
       "2000-01-04            0.2        7.0       4.4      11.0         0.0\n",
       "2000-01-05            0.8        6.4       1.9      10.8         0.0\n",
       "...                   ...        ...       ...       ...         ...\n",
       "2020-12-27            2.0        7.5       7.6       7.5         0.0\n",
       "2020-12-28            0.2        1.1      -1.3       3.6         0.0\n",
       "2020-12-29            0.0        2.6       1.1       4.1         0.0\n",
       "2020-12-30            0.0        2.7      -0.1       5.6         0.0\n",
       "2020-12-31            0.0       -0.8      -3.1       1.5         0.0\n",
       "\n",
       "[7671 rows x 5 columns]"
      ]
     },
     "execution_count": 12,
     "metadata": {},
     "output_type": "execute_result"
    }
   ],
   "source": [
    "df"
   ]
  },
  {
   "cell_type": "markdown",
   "id": "80181d53",
   "metadata": {},
   "source": [
    "# Part 2) Answer the Questions with Visualizations (Using the Correct Frequency)"
   ]
  },
  {
   "cell_type": "markdown",
   "id": "cbf23663",
   "metadata": {},
   "source": [
    "## Q1: What month had the most precipitation between 2000 through 2010?"
   ]
  },
  {
   "cell_type": "code",
   "execution_count": 13,
   "id": "a3f87ed6",
   "metadata": {},
   "outputs": [
    {
     "data": {
      "text/plain": [
       "date\n",
       "2000-01-01    0.0\n",
       "2000-01-02    0.2\n",
       "2000-01-03    6.0\n",
       "2000-01-04    0.2\n",
       "2000-01-05    0.8\n",
       "Name: precipitation, dtype: float64"
      ]
     },
     "execution_count": 13,
     "metadata": {},
     "output_type": "execute_result"
    }
   ],
   "source": [
    "df_prec = df['precipitation'].copy()\n",
    "df_prec.head()"
   ]
  },
  {
   "cell_type": "code",
   "execution_count": 14,
   "id": "e5caea75",
   "metadata": {},
   "outputs": [
    {
     "data": {
      "text/plain": [
       "date\n",
       "2000-01-01    0.0\n",
       "2000-01-02    0.2\n",
       "2000-01-03    6.0\n",
       "2000-01-04    0.2\n",
       "2000-01-05    0.8\n",
       "             ... \n",
       "2010-12-27    5.0\n",
       "2010-12-28    0.4\n",
       "2010-12-29    1.4\n",
       "2010-12-30    0.0\n",
       "2010-12-31    0.0\n",
       "Name: precipitation, Length: 4018, dtype: float64"
      ]
     },
     "execution_count": 14,
     "metadata": {},
     "output_type": "execute_result"
    }
   ],
   "source": [
    "df_prec = df_prec.loc['2000':'2010']\n",
    "df_prec"
   ]
  },
  {
   "cell_type": "code",
   "execution_count": 15,
   "id": "2e7a3427",
   "metadata": {},
   "outputs": [
    {
     "data": {
      "text/plain": [
       "date\n",
       "2000-01-31    14.5\n",
       "2000-02-29    64.8\n",
       "2000-03-31    13.9\n",
       "2000-04-30    82.5\n",
       "2000-05-31    78.0\n",
       "              ... \n",
       "2010-08-31    92.4\n",
       "2010-09-30    44.6\n",
       "2010-10-31    63.1\n",
       "2010-11-30    32.0\n",
       "2010-12-31    21.3\n",
       "Freq: M, Name: precipitation, Length: 132, dtype: float64"
      ]
     },
     "execution_count": 15,
     "metadata": {},
     "output_type": "execute_result"
    }
   ],
   "source": [
    "df_prec = df_prec.resample(\"M\").sum()\n",
    "\n",
    "df_prec"
   ]
  },
  {
   "cell_type": "code",
   "execution_count": 16,
   "id": "ba180102",
   "metadata": {},
   "outputs": [
    {
     "data": {
      "text/plain": [
       "152.7"
      ]
     },
     "execution_count": 16,
     "metadata": {},
     "output_type": "execute_result"
    }
   ],
   "source": [
    "prec_max = df_prec.idxmax()\n",
    "\n",
    "df_prec.loc[prec_max]"
   ]
  },
  {
   "cell_type": "code",
   "execution_count": 17,
   "id": "8ab96ca7",
   "metadata": {},
   "outputs": [
    {
     "name": "stdout",
     "output_type": "stream",
     "text": [
      "2000-10-31 00:00:00\n"
     ]
    }
   ],
   "source": [
    "print(prec_max)"
   ]
  },
  {
   "cell_type": "markdown",
   "id": "e7b6858c",
   "metadata": {},
   "source": [
    "### The date with the most precipitation was 10/31/2000 with a 4.92 score."
   ]
  },
  {
   "cell_type": "code",
   "execution_count": 18,
   "id": "d0a95b9b",
   "metadata": {},
   "outputs": [
    {
     "data": {
      "image/png": "[encoded data removed]",
      "text/plain": [
       "<Figure size 1200x300 with 1 Axes>"
      ]
     },
     "metadata": {},
     "output_type": "display_data"
    }
   ],
   "source": [
    "fig, ax = plt.subplots(figsize = (12, 3))\n",
    "\n",
    "df_prec.plot(ax = ax)\n",
    "\n",
    "fig.autofmt_xdate(which = 'major', rotation = 90)\n",
    "\n",
    "ax.set_title('Precipitation for 2000-2010', fontsize = 15)\n",
    "ax.set_ylabel('Inches')\n",
    "ax.set_xlabel('Date')\n",
    "       \n",
    "ax.axvline(x = prec_max, color = 'g', linestyle = '--',\n",
    "          label = f'Max Precipitation, {prec_max:%B %Y}')\n",
    "\n",
    "handles, labels = ax.get_legend_handles_labels()\n",
    "labels = [label.title() for label in labels]\n",
    "\n",
    "ax.legend(handles,\n",
    "          labels,\n",
    "          loc = 'best');"
   ]
  },
  {
   "cell_type": "markdown",
   "id": "2cdb4c91",
   "metadata": {},
   "source": [
    "## Q2: Which year between 2000-2020 had the coolest average temperature?"
   ]
  },
  {
   "cell_type": "code",
   "execution_count": 19,
   "id": "827d82b1",
   "metadata": {},
   "outputs": [
    {
     "data": {
      "text/plain": [
       "date\n",
       "2000-01-01    7.0\n",
       "2000-01-02    7.9\n",
       "2000-01-03    9.4\n",
       "2000-01-04    7.0\n",
       "2000-01-05    6.4\n",
       "Name: mean_temp, dtype: float64"
      ]
     },
     "execution_count": 19,
     "metadata": {},
     "output_type": "execute_result"
    }
   ],
   "source": [
    "df_temp = df['mean_temp'].copy()\n",
    "df_temp.head()"
   ]
  },
  {
   "cell_type": "code",
   "execution_count": 20,
   "id": "b497a90c",
   "metadata": {},
   "outputs": [
    {
     "data": {
      "text/plain": [
       "date\n",
       "2000-01-01    11.575683\n",
       "2001-01-01    11.331507\n",
       "2002-01-01    12.084247\n",
       "2003-01-01    12.114521\n",
       "2004-01-01    11.900683\n",
       "2005-01-01    11.822877\n",
       "2006-01-01    12.290822\n",
       "2007-01-01    11.944384\n",
       "2008-01-01    11.326776\n",
       "2009-01-01    11.721644\n",
       "2010-01-01    10.657397\n",
       "2011-01-01    12.366438\n",
       "2012-01-01    11.300956\n",
       "2013-01-01    11.166301\n",
       "2014-01-01    12.658904\n",
       "2015-01-01    12.123699\n",
       "2016-01-01    11.906284\n",
       "2017-01-01    12.242466\n",
       "2018-01-01    12.501370\n",
       "2019-01-01    12.206164\n",
       "2020-01-01    12.723634\n",
       "Freq: AS-JAN, Name: mean_temp, dtype: float64"
      ]
     },
     "execution_count": 20,
     "metadata": {},
     "output_type": "execute_result"
    }
   ],
   "source": [
    "df_temp = df_temp.resample(\"AS\").mean()\n",
    "df_temp"
   ]
  },
  {
   "cell_type": "code",
   "execution_count": 21,
   "id": "d7feb37e",
   "metadata": {},
   "outputs": [
    {
     "data": {
      "text/plain": [
       "date\n",
       "2000-01-01    11.575683\n",
       "2001-01-01    11.331507\n",
       "2002-01-01    12.084247\n",
       "2003-01-01    12.114521\n",
       "2004-01-01    11.900683\n",
       "2005-01-01    11.822877\n",
       "2006-01-01    12.290822\n",
       "2007-01-01    11.944384\n",
       "2008-01-01    11.326776\n",
       "2009-01-01    11.721644\n",
       "2010-01-01    10.657397\n",
       "2011-01-01    12.366438\n",
       "2012-01-01    11.300956\n",
       "2013-01-01    11.166301\n",
       "2014-01-01    12.658904\n",
       "2015-01-01    12.123699\n",
       "2016-01-01    11.906284\n",
       "2017-01-01    12.242466\n",
       "2018-01-01    12.501370\n",
       "2019-01-01    12.206164\n",
       "2020-01-01    12.723634\n",
       "Freq: AS-JAN, Name: mean_temp, dtype: float64"
      ]
     },
     "execution_count": 21,
     "metadata": {},
     "output_type": "execute_result"
    }
   ],
   "source": [
    "df_temp = df_temp.loc['2000':'2020']\n",
    "df_temp"
   ]
  },
  {
   "cell_type": "code",
   "execution_count": 22,
   "id": "632ea3ad",
   "metadata": {},
   "outputs": [
    {
     "data": {
      "text/plain": [
       "10.657397260273973"
      ]
     },
     "execution_count": 22,
     "metadata": {},
     "output_type": "execute_result"
    }
   ],
   "source": [
    "temp_min = df_temp.idxmin()\n",
    "\n",
    "df_temp.loc[temp_min]"
   ]
  },
  {
   "cell_type": "code",
   "execution_count": 23,
   "id": "83e47b1f",
   "metadata": {},
   "outputs": [
    {
     "name": "stdout",
     "output_type": "stream",
     "text": [
      "2010-01-01 00:00:00\n"
     ]
    }
   ],
   "source": [
    "print(temp_min)"
   ]
  },
  {
   "cell_type": "markdown",
   "id": "79ec2bbb",
   "metadata": {},
   "source": [
    "### The year with the coolest avegrage temp is 2010"
   ]
  },
  {
   "cell_type": "code",
   "execution_count": 24,
   "id": "7d719773",
   "metadata": {},
   "outputs": [
    {
     "data": {
      "image/png": "[encoded data removed]",
      "text/plain": [
       "<Figure size 1200x300 with 1 Axes>"
      ]
     },
     "metadata": {},
     "output_type": "display_data"
    }
   ],
   "source": [
    "fig, ax = plt.subplots(figsize = (12, 3))\n",
    "\n",
    "df_temp.plot(ax = ax)\n",
    "\n",
    "fig.autofmt_xdate(which = 'major', rotation = 90)\n",
    "\n",
    "ax.set_title('Average Temperature', fontsize = 15)\n",
    "ax.set_ylabel('Degrees')\n",
    "ax.set_xlabel('Year')\n",
    "\n",
    "ax.axvline(x = temp_min, color = 'g', linestyle = '--',\n",
    "          label = f'Temp min, {temp_min:%B %Y}')\n",
    "\n",
    "handles, labels = ax.get_legend_handles_labels()\n",
    "labels = [label.title() for label in labels]\n",
    "\n",
    "ax.legend(handles,\n",
    "          labels,\n",
    "          loc = 'best');"
   ]
  }
 ],
 "metadata": {
  "kernelspec": {
   "display_name": "Python (dojo-env)",
   "language": "python",
   "name": "dojo-env"
  },
  "language_info": {
   "codemirror_mode": {
    "name": "ipython",
    "version": 3
   },
   "file_extension": ".py",
   "mimetype": "text/x-python",
   "name": "python",
   "nbconvert_exporter": "python",
   "pygments_lexer": "ipython3",
   "version": "3.9.15"
  },
  "toc": {
   "base_numbering": 1,
   "nav_menu": {},
   "number_sections": false,
   "sideBar": true,
   "skip_h1_title": false,
   "title_cell": "Table of Contents",
   "title_sidebar": "Contents",
   "toc_cell": false,
   "toc_position": {},
   "toc_section_display": true,
   "toc_window_display": false
  }
 },
 "nbformat": 4,
 "nbformat_minor": 5
}
